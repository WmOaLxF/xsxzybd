{
 "cells": [
  {
   "cell_type": "markdown",
   "id": "49bb20e3-7bb7-427b-9782-27a23ebead5e",
   "metadata": {},
   "source": [
    "# 读入数据"
   ]
  },
  {
   "cell_type": "code",
   "execution_count": null,
   "id": "5c4039f4-4e9d-4297-9e8b-e99988c9a31f",
   "metadata": {},
   "outputs": [],
   "source": [
    "!pip install dask"
   ]
  },
  {
   "cell_type": "code",
   "execution_count": 17,
   "id": "1cf000e5-3fbf-4e5b-8cd9-ed35b132b345",
   "metadata": {},
   "outputs": [],
   "source": [
    "import dask.dataframe as dd"
   ]
  },
  {
   "cell_type": "code",
   "execution_count": 26,
   "id": "f28e42b3-dce8-4c6a-a445-253998b96ef7",
   "metadata": {},
   "outputs": [],
   "source": [
    "ddf=dd.read_csv('./data/*',dtype={'Unnamed: 0': 'object',\n",
    "                                  'extra': 'float64',\n",
    "                                  'likenum': 'float64',\n",
    "                                  'pid': 'object',\n",
    "                                  'reply': 'float64',\n",
    "                                  'timestamp': 'float64',\n",
    "                                 'url':'object','tag':'object'})"
   ]
  },
  {
   "cell_type": "code",
   "execution_count": 27,
   "id": "bb6217ba-d9c1-470e-b7f2-3d07b3404409",
   "metadata": {},
   "outputs": [],
   "source": [
    "df=ddf.compute()"
   ]
  },
  {
   "cell_type": "code",
   "execution_count": 28,
   "id": "1437a958-ce4f-4b3d-9d78-2c11f4a31edb",
   "metadata": {},
   "outputs": [],
   "source": [
    "df2=pd.read_csv('./neijuan_hole_drop.csv')"
   ]
  },
  {
   "cell_type": "code",
   "execution_count": 29,
   "id": "39c470a7-6824-40ea-8671-146b954682eb",
   "metadata": {},
   "outputs": [],
   "source": [
    "df=df.append(df2)"
   ]
  },
  {
   "cell_type": "code",
   "execution_count": 72,
   "id": "596da736-d8f4-438d-972b-195b6f08e046",
   "metadata": {},
   "outputs": [
    {
     "name": "stdout",
     "output_type": "stream",
     "text": [
      "<class 'pandas.core.frame.DataFrame'>\n",
      "RangeIndex: 95308 entries, 0 to 95307\n",
      "Data columns (total 12 columns):\n",
      " #   Column      Non-Null Count  Dtype         \n",
      "---  ------      --------------  -----         \n",
      " 0   Unnamed: 0  95157 non-null  object        \n",
      " 1   pid         95308 non-null  float64       \n",
      " 2   text        94308 non-null  object        \n",
      " 3   type        95282 non-null  object        \n",
      " 4   timestamp   95308 non-null  float64       \n",
      " 5   reply       95308 non-null  float64       \n",
      " 6   likenum     95308 non-null  float64       \n",
      " 7   extra       95308 non-null  float64       \n",
      " 8   url         7850 non-null   object        \n",
      " 9   tag         1 non-null      object        \n",
      " 10  tokens      95308 non-null  object        \n",
      " 11  time        95282 non-null  datetime64[ns]\n",
      "dtypes: datetime64[ns](1), float64(5), object(6)\n",
      "memory usage: 8.7+ MB\n"
     ]
    }
   ],
   "source": [
    "df.info()"
   ]
  },
  {
   "cell_type": "code",
   "execution_count": 31,
   "id": "9f0aa97e-ee87-4628-939c-0864c85416b5",
   "metadata": {},
   "outputs": [],
   "source": [
    "df[df.pid=='text']=np.hstack([np.nan,np.nan,df[df.pid=='text'].values[0][:-2]])\n",
    "\n",
    "df.to_csv('9w.csv',index=False)"
   ]
  },
  {
   "cell_type": "code",
   "execution_count": 3,
   "id": "a09c39a6-ef74-45ce-a036-65a718c98259",
   "metadata": {},
   "outputs": [],
   "source": [
    "import pandas as pd "
   ]
  },
  {
   "cell_type": "code",
   "execution_count": 4,
   "id": "9eb8aaeb-e4a1-4649-85d6-04bd89945ba7",
   "metadata": {},
   "outputs": [],
   "source": [
    "df=pd.read_csv('9w.csv')"
   ]
  },
  {
   "cell_type": "markdown",
   "id": "e403b6c7-3994-4685-bcfc-5f8f7d6a549e",
   "metadata": {},
   "source": [
    "# 数据处理"
   ]
  },
  {
   "cell_type": "code",
   "execution_count": null,
   "id": "a0b6f88b-d5fa-4be3-9763-51ff6a5bae20",
   "metadata": {},
   "outputs": [],
   "source": [
    "!pip install pkuseg"
   ]
  },
  {
   "cell_type": "code",
   "execution_count": null,
   "id": "8b6a02ab-bf96-4006-83c7-9b925cb3c9bb",
   "metadata": {},
   "outputs": [],
   "source": [
    "!pip install gensim"
   ]
  },
  {
   "cell_type": "code",
   "execution_count": 7,
   "id": "cd4ca2b2-c4b8-4885-ad27-0fd8be0550e4",
   "metadata": {},
   "outputs": [],
   "source": [
    "import pkuseg\n",
    "import os\n",
    "from gensim.models import Word2Vec,word2vec\n",
    "from functools import reduce"
   ]
  },
  {
   "cell_type": "code",
   "execution_count": 6,
   "id": "25d842d9-6f3b-46b1-baab-724b90081a7a",
   "metadata": {},
   "outputs": [],
   "source": [
    "seg = pkuseg.pkuseg()           # 加载web模型\n",
    "stop_dir='./stopwords/' #链接: https://pan.baidu.com/s/1lkpBp8JDTN14-Gnczi6_nA  密码: u21o--来自百度网盘超级会员V3的分享\n",
    "\n",
    "#加载停用词\n",
    "def read_f(file):\n",
    "    if '.txt' not in file: \n",
    "        return []\n",
    "    with open(file) as f: \n",
    "        stop_l=[i.strip('\\n') for i in f.readlines()]\n",
    "    return stop_l\n",
    "\n",
    "stop_l=reduce(lambda x,y: x+y,map(read_f,[stop_dir+t for t in os.listdir(stop_dir)]))\n",
    "\n",
    "def my_cut(sentence):\n",
    "    if pd.isna(sentence) or len(sentence)==0:\n",
    "        return []\n",
    "    return [i for i in seg.cut(sentence) if i not in stop_l]"
   ]
  },
  {
   "cell_type": "code",
   "execution_count": 7,
   "id": "cbb464fc-00aa-45a9-af51-cdf6177da630",
   "metadata": {},
   "outputs": [],
   "source": [
    "res_sr=df.text.apply(my_cut)"
   ]
  },
  {
   "cell_type": "code",
   "execution_count": 9,
   "id": "dbaf4cc2-2696-4e04-b8b4-d8486829fbdd",
   "metadata": {},
   "outputs": [],
   "source": [
    "df['tokens']=res_sr"
   ]
  },
  {
   "cell_type": "code",
   "execution_count": 10,
   "id": "934eca8e-749e-4983-82ca-fb5550fbe86c",
   "metadata": {},
   "outputs": [],
   "source": [
    "with open('word2vec_content_all.txt','w+') as f:\n",
    "    [f.write(' '.join(i)+'\\n') for i in res_sr]\n",
    "    #[f.write(' '.join(i)+'\\n') for i in res_sr2]"
   ]
  },
  {
   "cell_type": "code",
   "execution_count": 11,
   "id": "179c62ae-2581-47a9-bcef-5ecf63399007",
   "metadata": {},
   "outputs": [],
   "source": [
    "import time \n",
    "\n",
    "import numpy as np\n",
    "\n",
    "def time_converter(timestamp):\n",
    "    if pd.isna(timestamp):\n",
    "        return np.nan\n",
    "    local_time=time.localtime(timestamp)\n",
    "    str_time='%s-%s-%s %s:%s:%s'%(local_time.tm_year,local_time.tm_mon,local_time.tm_mday,local_time.tm_hour,local_time.tm_min,local_time.tm_sec)\n",
    "    return pd.to_datetime(str_time)"
   ]
  },
  {
   "cell_type": "code",
   "execution_count": 12,
   "id": "77aa59c3-dbad-4a83-904b-6c8a353bd796",
   "metadata": {},
   "outputs": [],
   "source": [
    "time_sr_=df.timestamp.apply(time_converter)"
   ]
  },
  {
   "cell_type": "code",
   "execution_count": 14,
   "id": "ec9519ac-cc33-4d87-81a1-08937db5c7d9",
   "metadata": {},
   "outputs": [],
   "source": [
    "df['time']=time_sr_"
   ]
  },
  {
   "cell_type": "code",
   "execution_count": 17,
   "id": "dbd340a7-c0bb-4235-bc91-54d127bef391",
   "metadata": {},
   "outputs": [],
   "source": [
    "df.to_csv('processed_.csv',index=False)"
   ]
  },
  {
   "cell_type": "markdown",
   "id": "cf1851cf-2915-4f1a-af82-4061af79e1dc",
   "metadata": {},
   "source": [
    "# 演化分析"
   ]
  },
  {
   "cell_type": "code",
   "execution_count": 22,
   "id": "1dcf566b-6661-496a-b264-2f741c1480dc",
   "metadata": {},
   "outputs": [],
   "source": [
    "with open('word2vec_content_before_2021.txt','w+') as f:\n",
    "    [f.write(' '.join(i)+'\\n') for i in df[df.time<='2021'].tokens]"
   ]
  },
  {
   "cell_type": "code",
   "execution_count": 23,
   "id": "f4e70a36-bbc2-4e10-995c-db6b3776af05",
   "metadata": {},
   "outputs": [],
   "source": [
    "with open('word2vec_content_after_2021.txt','w+') as f:\n",
    "    [f.write(' '.join(i)+'\\n') for i in df[df.time>'2021'].tokens]"
   ]
  },
  {
   "cell_type": "code",
   "execution_count": 33,
   "id": "f375b198-4f07-4b07-902e-c8e91fea52a0",
   "metadata": {},
   "outputs": [],
   "source": [
    "def find_token(x,token='内卷'):\n",
    "    return True if token in x else False"
   ]
  },
  {
   "cell_type": "code",
   "execution_count": 38,
   "id": "042f5094-2118-4c24-a2cb-d97055fe9669",
   "metadata": {},
   "outputs": [],
   "source": [
    "contain_df=df[df.tokens.apply(find_token)]"
   ]
  },
  {
   "cell_type": "code",
   "execution_count": 40,
   "id": "c139f4b9-8522-47ae-90e3-f54c5eba4785",
   "metadata": {},
   "outputs": [
    {
     "data": {
      "text/html": [
       "<div>\n",
       "<style scoped>\n",
       "    .dataframe tbody tr th:only-of-type {\n",
       "        vertical-align: middle;\n",
       "    }\n",
       "\n",
       "    .dataframe tbody tr th {\n",
       "        vertical-align: top;\n",
       "    }\n",
       "\n",
       "    .dataframe thead th {\n",
       "        text-align: right;\n",
       "    }\n",
       "</style>\n",
       "<table border=\"1\" class=\"dataframe\">\n",
       "  <thead>\n",
       "    <tr style=\"text-align: right;\">\n",
       "      <th></th>\n",
       "      <th>Unnamed: 0</th>\n",
       "      <th>pid</th>\n",
       "      <th>text</th>\n",
       "      <th>type</th>\n",
       "      <th>timestamp</th>\n",
       "      <th>reply</th>\n",
       "      <th>likenum</th>\n",
       "      <th>extra</th>\n",
       "      <th>url</th>\n",
       "      <th>tag</th>\n",
       "      <th>tokens</th>\n",
       "      <th>time</th>\n",
       "    </tr>\n",
       "  </thead>\n",
       "  <tbody>\n",
       "    <tr>\n",
       "      <th>8760</th>\n",
       "      <td>40</td>\n",
       "      <td>2172865.0</td>\n",
       "      <td>我真的觉得化院李娜老师的定分课不是一般人能听懂的，虽然我已经退出了内卷（绩点3.0-），但好...</td>\n",
       "      <td>text</td>\n",
       "      <td>1.616571e+09</td>\n",
       "      <td>21.0</td>\n",
       "      <td>10.0</td>\n",
       "      <td>0.0</td>\n",
       "      <td>NaN</td>\n",
       "      <td>NaN</td>\n",
       "      <td>[真的, 化院, 李娜, 老师, 定分课, 听懂, 退出, 内卷, 绩点, 3.0-）, 好...</td>\n",
       "      <td>2021-03-24 15:25:50</td>\n",
       "    </tr>\n",
       "    <tr>\n",
       "      <th>9547</th>\n",
       "      <td>195</td>\n",
       "      <td>2173619.0</td>\n",
       "      <td>作为生化环材的一员，我觉得虽然劝退生化环材一点问题都没有，但是现在畸形的疯狂劝进金融计算机是...</td>\n",
       "      <td>text</td>\n",
       "      <td>1.616587e+09</td>\n",
       "      <td>34.0</td>\n",
       "      <td>19.0</td>\n",
       "      <td>0.0</td>\n",
       "      <td>NaN</td>\n",
       "      <td>NaN</td>\n",
       "      <td>[生化, 环材, 员, 劝退, 生化, 环材, 一点, 畸形, 疯狂, 劝进, 金融, 计算...</td>\n",
       "      <td>2021-03-24 20:03:40</td>\n",
       "    </tr>\n",
       "    <tr>\n",
       "      <th>10446</th>\n",
       "      <td>57</td>\n",
       "      <td>2187686.0</td>\n",
       "      <td>#内卷##焦虑#\\nhttps://www.wjx.cn/hj/myalk1wnrkm9qy...</td>\n",
       "      <td>image</td>\n",
       "      <td>1.617013e+09</td>\n",
       "      <td>1.0</td>\n",
       "      <td>1.0</td>\n",
       "      <td>370655.0</td>\n",
       "      <td>c2b1f52b0289f26e4ab307fc231f2f1dbbdffed0_1242x...</td>\n",
       "      <td>NaN</td>\n",
       "      <td>[内卷, 焦虑, https, www.wjx.cn/hj/myalk1wnrkm9qywa...</td>\n",
       "      <td>2021-03-29 18:08:41</td>\n",
       "    </tr>\n",
       "    <tr>\n",
       "      <th>11902</th>\n",
       "      <td>87</td>\n",
       "      <td>2189111.0</td>\n",
       "      <td>lb老师如此深谙内卷的发生机制，却还是想看我们变成半狼半羊😓</td>\n",
       "      <td>text</td>\n",
       "      <td>1.617066e+09</td>\n",
       "      <td>2.0</td>\n",
       "      <td>1.0</td>\n",
       "      <td>0.0</td>\n",
       "      <td>NaN</td>\n",
       "      <td>NaN</td>\n",
       "      <td>[lb, 老师, 深谙, 内卷, 发生, 机制, 想, 半, 狼, 半, 羊, 😓]</td>\n",
       "      <td>2021-03-30 08:52:23</td>\n",
       "    </tr>\n",
       "    <tr>\n",
       "      <th>12283</th>\n",
       "      <td>58</td>\n",
       "      <td>2189484.0</td>\n",
       "      <td>关于法理和债法，说实话，dz算是很认真地看了阅读材料，有问题就会问清楚的类型，感觉这学期的课...</td>\n",
       "      <td>text</td>\n",
       "      <td>1.617074e+09</td>\n",
       "      <td>8.0</td>\n",
       "      <td>17.0</td>\n",
       "      <td>0.0</td>\n",
       "      <td>NaN</td>\n",
       "      <td>NaN</td>\n",
       "      <td>[法理, 债法, 说, 实话, dz, 算是, 阅读, 材料, 问, 类型, 感觉, 学期,...</td>\n",
       "      <td>2021-03-30 11:16:51</td>\n",
       "    </tr>\n",
       "    <tr>\n",
       "      <th>...</th>\n",
       "      <td>...</td>\n",
       "      <td>...</td>\n",
       "      <td>...</td>\n",
       "      <td>...</td>\n",
       "      <td>...</td>\n",
       "      <td>...</td>\n",
       "      <td>...</td>\n",
       "      <td>...</td>\n",
       "      <td>...</td>\n",
       "      <td>...</td>\n",
       "      <td>...</td>\n",
       "      <td>...</td>\n",
       "    </tr>\n",
       "    <tr>\n",
       "      <th>95302</th>\n",
       "      <td>NaN</td>\n",
       "      <td>2169048.0</td>\n",
       "      <td>2021年3月23日9:13，lb委员长主持召开第一届北大内卷会议第一次线下会议，会议上lb...</td>\n",
       "      <td>text</td>\n",
       "      <td>1.616464e+09</td>\n",
       "      <td>7.0</td>\n",
       "      <td>10.0</td>\n",
       "      <td>0.0</td>\n",
       "      <td>NaN</td>\n",
       "      <td>NaN</td>\n",
       "      <td>[2021年, 3月, 23日, 9:13, lb委员长, 主持, 第一, 届, 北大, 内...</td>\n",
       "      <td>2021-03-23 09:46:56</td>\n",
       "    </tr>\n",
       "    <tr>\n",
       "      <th>95303</th>\n",
       "      <td>NaN</td>\n",
       "      <td>2169043.0</td>\n",
       "      <td>内卷叫内卷已经揭示了人被框定在某种外部结构里。人们并不是怕竞争或者怕努力，而主要是讨厌第一人...</td>\n",
       "      <td>text</td>\n",
       "      <td>1.616464e+09</td>\n",
       "      <td>14.0</td>\n",
       "      <td>7.0</td>\n",
       "      <td>0.0</td>\n",
       "      <td>NaN</td>\n",
       "      <td>NaN</td>\n",
       "      <td>[内卷, 内卷, 揭示, 框定, 某种, 外部, 结构, 里, 怕, 竞争, 怕, 努力, ...</td>\n",
       "      <td>2021-03-23 09:43:35</td>\n",
       "    </tr>\n",
       "    <tr>\n",
       "      <th>95305</th>\n",
       "      <td>NaN</td>\n",
       "      <td>2168980.0</td>\n",
       "      <td>内卷之所以叫内卷，这个词就揭示了这种状态的成因是某种外部结构。</td>\n",
       "      <td>text</td>\n",
       "      <td>1.616463e+09</td>\n",
       "      <td>1.0</td>\n",
       "      <td>6.0</td>\n",
       "      <td>0.0</td>\n",
       "      <td>NaN</td>\n",
       "      <td>NaN</td>\n",
       "      <td>[内卷, 内卷, 词, 揭示, 状态, 成因, 某种, 外部, 结构]</td>\n",
       "      <td>2021-03-23 09:25:45</td>\n",
       "    </tr>\n",
       "    <tr>\n",
       "      <th>95306</th>\n",
       "      <td>NaN</td>\n",
       "      <td>2168940.0</td>\n",
       "      <td>lb：自然状态就是内卷。</td>\n",
       "      <td>text</td>\n",
       "      <td>1.616462e+09</td>\n",
       "      <td>0.0</td>\n",
       "      <td>1.0</td>\n",
       "      <td>0.0</td>\n",
       "      <td>NaN</td>\n",
       "      <td>NaN</td>\n",
       "      <td>[lb, 自然, 状态, 内卷]</td>\n",
       "      <td>2021-03-23 09:15:53</td>\n",
       "    </tr>\n",
       "    <tr>\n",
       "      <th>95307</th>\n",
       "      <td>NaN</td>\n",
       "      <td>2168938.0</td>\n",
       "      <td>自然状态就是内卷？\\n直接排除合理竞争吗</td>\n",
       "      <td>text</td>\n",
       "      <td>1.616462e+09</td>\n",
       "      <td>4.0</td>\n",
       "      <td>2.0</td>\n",
       "      <td>0.0</td>\n",
       "      <td>NaN</td>\n",
       "      <td>NaN</td>\n",
       "      <td>[自然, 状态, 内卷, 排除, 竞争]</td>\n",
       "      <td>2021-03-23 09:14:57</td>\n",
       "    </tr>\n",
       "  </tbody>\n",
       "</table>\n",
       "<p>207 rows × 12 columns</p>\n",
       "</div>"
      ],
      "text/plain": [
       "      Unnamed: 0        pid  \\\n",
       "8760          40  2172865.0   \n",
       "9547         195  2173619.0   \n",
       "10446         57  2187686.0   \n",
       "11902         87  2189111.0   \n",
       "12283         58  2189484.0   \n",
       "...          ...        ...   \n",
       "95302        NaN  2169048.0   \n",
       "95303        NaN  2169043.0   \n",
       "95305        NaN  2168980.0   \n",
       "95306        NaN  2168940.0   \n",
       "95307        NaN  2168938.0   \n",
       "\n",
       "                                                    text   type     timestamp  \\\n",
       "8760   我真的觉得化院李娜老师的定分课不是一般人能听懂的，虽然我已经退出了内卷（绩点3.0-），但好...   text  1.616571e+09   \n",
       "9547   作为生化环材的一员，我觉得虽然劝退生化环材一点问题都没有，但是现在畸形的疯狂劝进金融计算机是...   text  1.616587e+09   \n",
       "10446  #内卷##焦虑#\\nhttps://www.wjx.cn/hj/myalk1wnrkm9qy...  image  1.617013e+09   \n",
       "11902                     lb老师如此深谙内卷的发生机制，却还是想看我们变成半狼半羊😓   text  1.617066e+09   \n",
       "12283  关于法理和债法，说实话，dz算是很认真地看了阅读材料，有问题就会问清楚的类型，感觉这学期的课...   text  1.617074e+09   \n",
       "...                                                  ...    ...           ...   \n",
       "95302  2021年3月23日9:13，lb委员长主持召开第一届北大内卷会议第一次线下会议，会议上lb...   text  1.616464e+09   \n",
       "95303  内卷叫内卷已经揭示了人被框定在某种外部结构里。人们并不是怕竞争或者怕努力，而主要是讨厌第一人...   text  1.616464e+09   \n",
       "95305                    内卷之所以叫内卷，这个词就揭示了这种状态的成因是某种外部结构。   text  1.616463e+09   \n",
       "95306                                       lb：自然状态就是内卷。   text  1.616462e+09   \n",
       "95307                               自然状态就是内卷？\\n直接排除合理竞争吗   text  1.616462e+09   \n",
       "\n",
       "       reply  likenum     extra  \\\n",
       "8760    21.0     10.0       0.0   \n",
       "9547    34.0     19.0       0.0   \n",
       "10446    1.0      1.0  370655.0   \n",
       "11902    2.0      1.0       0.0   \n",
       "12283    8.0     17.0       0.0   \n",
       "...      ...      ...       ...   \n",
       "95302    7.0     10.0       0.0   \n",
       "95303   14.0      7.0       0.0   \n",
       "95305    1.0      6.0       0.0   \n",
       "95306    0.0      1.0       0.0   \n",
       "95307    4.0      2.0       0.0   \n",
       "\n",
       "                                                     url  tag  \\\n",
       "8760                                                 NaN  NaN   \n",
       "9547                                                 NaN  NaN   \n",
       "10446  c2b1f52b0289f26e4ab307fc231f2f1dbbdffed0_1242x...  NaN   \n",
       "11902                                                NaN  NaN   \n",
       "12283                                                NaN  NaN   \n",
       "...                                                  ...  ...   \n",
       "95302                                                NaN  NaN   \n",
       "95303                                                NaN  NaN   \n",
       "95305                                                NaN  NaN   \n",
       "95306                                                NaN  NaN   \n",
       "95307                                                NaN  NaN   \n",
       "\n",
       "                                                  tokens                time  \n",
       "8760   [真的, 化院, 李娜, 老师, 定分课, 听懂, 退出, 内卷, 绩点, 3.0-）, 好... 2021-03-24 15:25:50  \n",
       "9547   [生化, 环材, 员, 劝退, 生化, 环材, 一点, 畸形, 疯狂, 劝进, 金融, 计算... 2021-03-24 20:03:40  \n",
       "10446  [内卷, 焦虑, https, www.wjx.cn/hj/myalk1wnrkm9qywa... 2021-03-29 18:08:41  \n",
       "11902         [lb, 老师, 深谙, 内卷, 发生, 机制, 想, 半, 狼, 半, 羊, 😓] 2021-03-30 08:52:23  \n",
       "12283  [法理, 债法, 说, 实话, dz, 算是, 阅读, 材料, 问, 类型, 感觉, 学期,... 2021-03-30 11:16:51  \n",
       "...                                                  ...                 ...  \n",
       "95302  [2021年, 3月, 23日, 9:13, lb委员长, 主持, 第一, 届, 北大, 内... 2021-03-23 09:46:56  \n",
       "95303  [内卷, 内卷, 揭示, 框定, 某种, 外部, 结构, 里, 怕, 竞争, 怕, 努力, ... 2021-03-23 09:43:35  \n",
       "95305                [内卷, 内卷, 词, 揭示, 状态, 成因, 某种, 外部, 结构] 2021-03-23 09:25:45  \n",
       "95306                                   [lb, 自然, 状态, 内卷] 2021-03-23 09:15:53  \n",
       "95307                               [自然, 状态, 内卷, 排除, 竞争] 2021-03-23 09:14:57  \n",
       "\n",
       "[207 rows x 12 columns]"
      ]
     },
     "execution_count": 40,
     "metadata": {},
     "output_type": "execute_result"
    }
   ],
   "source": [
    "contain_df[contain_df.time>'2021']"
   ]
  },
  {
   "cell_type": "markdown",
   "id": "a7ea81d1-cddc-4761-b6d7-0ab98c56e9e1",
   "metadata": {},
   "source": [
    "## 情绪"
   ]
  },
  {
   "cell_type": "code",
   "execution_count": 41,
   "id": "ac2018d7-610f-4f6b-9887-197e76c7cfef",
   "metadata": {},
   "outputs": [],
   "source": [
    "senti_df=pd.read_csv('./BosonNLP_sentiment_score/BosonNLP_sentiment_score.txt',sep=' ',header=None,names=['word','sentiment'])\n",
    "\n",
    "def calc_senti_score(tokens):\n",
    "    return senti_df[senti_df.word.isin(tokens)].sentiment.sum()"
   ]
  },
  {
   "cell_type": "code",
   "execution_count": 76,
   "id": "704d3941-1825-45bd-b9d7-86e4e1e4a230",
   "metadata": {},
   "outputs": [
    {
     "data": {
      "text/html": [
       "<div>\n",
       "<style scoped>\n",
       "    .dataframe tbody tr th:only-of-type {\n",
       "        vertical-align: middle;\n",
       "    }\n",
       "\n",
       "    .dataframe tbody tr th {\n",
       "        vertical-align: top;\n",
       "    }\n",
       "\n",
       "    .dataframe thead th {\n",
       "        text-align: right;\n",
       "    }\n",
       "</style>\n",
       "<table border=\"1\" class=\"dataframe\">\n",
       "  <thead>\n",
       "    <tr style=\"text-align: right;\">\n",
       "      <th></th>\n",
       "      <th>word</th>\n",
       "      <th>sentiment</th>\n",
       "    </tr>\n",
       "  </thead>\n",
       "  <tbody>\n",
       "    <tr>\n",
       "      <th>66456</th>\n",
       "      <td>天赋</td>\n",
       "      <td>0.942287</td>\n",
       "    </tr>\n",
       "  </tbody>\n",
       "</table>\n",
       "</div>"
      ],
      "text/plain": [
       "      word  sentiment\n",
       "66456   天赋   0.942287"
      ]
     },
     "execution_count": 76,
     "metadata": {},
     "output_type": "execute_result"
    }
   ],
   "source": [
    "senti_df[senti_df.word.isin(['天赋'])]"
   ]
  },
  {
   "cell_type": "code",
   "execution_count": 62,
   "id": "5ffd827e-6784-4686-8901-88d5a43c3b6f",
   "metadata": {},
   "outputs": [],
   "source": [
    "score1=contain_df[contain_df.time<='2021'].tokens.apply(calc_senti_score).mean()"
   ]
  },
  {
   "cell_type": "code",
   "execution_count": 63,
   "id": "8fc468f8-39cb-4e21-b660-a13b7c9e1ff2",
   "metadata": {},
   "outputs": [],
   "source": [
    "score2=contain_df[contain_df.time>'2021'].tokens.apply(calc_senti_score).mean()"
   ]
  },
  {
   "cell_type": "code",
   "execution_count": 70,
   "id": "e446bc90-25e2-4abe-b557-40ee9a478231",
   "metadata": {},
   "outputs": [],
   "source": [
    "score_sr=pd.Series([score1,score2],index=['before 2021','after 2021'],name='情绪得分')"
   ]
  },
  {
   "cell_type": "code",
   "execution_count": null,
   "id": "7941f1e4-97ee-438f-965b-f6ed1bfe62e0",
   "metadata": {},
   "outputs": [],
   "source": [
    "!pip install plotly"
   ]
  },
  {
   "cell_type": "code",
   "execution_count": 6,
   "id": "08cbe56d-fede-489f-a499-978360b8c20e",
   "metadata": {},
   "outputs": [],
   "source": [
    "import plotly.express as px"
   ]
  },
  {
   "cell_type": "code",
   "execution_count": 71,
   "id": "cc891260-8125-40d6-bc90-d5e8c57fe295",
   "metadata": {},
   "outputs": [
    {
     "data": {
      "application/vnd.plotly.v1+json": {
       "config": {
        "plotlyServerURL": "https://plot.ly"
       },
       "data": [
        {
         "alignmentgroup": "True",
         "hovertemplate": "variable=情绪得分<br>index=%{x}<br>value=%{y}<extra></extra>",
         "legendgroup": "情绪得分",
         "marker": {
          "color": "#636efa"
         },
         "name": "情绪得分",
         "offsetgroup": "情绪得分",
         "orientation": "v",
         "showlegend": true,
         "textposition": "auto",
         "type": "bar",
         "x": [
          "before 2021",
          "after 2021"
         ],
         "xaxis": "x",
         "y": [
          -2.2219834678827137,
          4.6103451390489605
         ],
         "yaxis": "y"
        }
       ],
       "layout": {
        "autosize": true,
        "barmode": "relative",
        "legend": {
         "title": {
          "text": "variable"
         },
         "tracegroupgap": 0
        },
        "template": {
         "data": {
          "bar": [
           {
            "error_x": {
             "color": "#2a3f5f"
            },
            "error_y": {
             "color": "#2a3f5f"
            },
            "marker": {
             "line": {
              "color": "#E5ECF6",
              "width": 0.5
             }
            },
            "type": "bar"
           }
          ],
          "barpolar": [
           {
            "marker": {
             "line": {
              "color": "#E5ECF6",
              "width": 0.5
             }
            },
            "type": "barpolar"
           }
          ],
          "carpet": [
           {
            "aaxis": {
             "endlinecolor": "#2a3f5f",
             "gridcolor": "white",
             "linecolor": "white",
             "minorgridcolor": "white",
             "startlinecolor": "#2a3f5f"
            },
            "baxis": {
             "endlinecolor": "#2a3f5f",
             "gridcolor": "white",
             "linecolor": "white",
             "minorgridcolor": "white",
             "startlinecolor": "#2a3f5f"
            },
            "type": "carpet"
           }
          ],
          "choropleth": [
           {
            "colorbar": {
             "outlinewidth": 0,
             "ticks": ""
            },
            "type": "choropleth"
           }
          ],
          "contour": [
           {
            "colorbar": {
             "outlinewidth": 0,
             "ticks": ""
            },
            "colorscale": [
             [
              0,
              "#0d0887"
             ],
             [
              0.1111111111111111,
              "#46039f"
             ],
             [
              0.2222222222222222,
              "#7201a8"
             ],
             [
              0.3333333333333333,
              "#9c179e"
             ],
             [
              0.4444444444444444,
              "#bd3786"
             ],
             [
              0.5555555555555556,
              "#d8576b"
             ],
             [
              0.6666666666666666,
              "#ed7953"
             ],
             [
              0.7777777777777778,
              "#fb9f3a"
             ],
             [
              0.8888888888888888,
              "#fdca26"
             ],
             [
              1,
              "#f0f921"
             ]
            ],
            "type": "contour"
           }
          ],
          "contourcarpet": [
           {
            "colorbar": {
             "outlinewidth": 0,
             "ticks": ""
            },
            "type": "contourcarpet"
           }
          ],
          "heatmap": [
           {
            "colorbar": {
             "outlinewidth": 0,
             "ticks": ""
            },
            "colorscale": [
             [
              0,
              "#0d0887"
             ],
             [
              0.1111111111111111,
              "#46039f"
             ],
             [
              0.2222222222222222,
              "#7201a8"
             ],
             [
              0.3333333333333333,
              "#9c179e"
             ],
             [
              0.4444444444444444,
              "#bd3786"
             ],
             [
              0.5555555555555556,
              "#d8576b"
             ],
             [
              0.6666666666666666,
              "#ed7953"
             ],
             [
              0.7777777777777778,
              "#fb9f3a"
             ],
             [
              0.8888888888888888,
              "#fdca26"
             ],
             [
              1,
              "#f0f921"
             ]
            ],
            "type": "heatmap"
           }
          ],
          "heatmapgl": [
           {
            "colorbar": {
             "outlinewidth": 0,
             "ticks": ""
            },
            "colorscale": [
             [
              0,
              "#0d0887"
             ],
             [
              0.1111111111111111,
              "#46039f"
             ],
             [
              0.2222222222222222,
              "#7201a8"
             ],
             [
              0.3333333333333333,
              "#9c179e"
             ],
             [
              0.4444444444444444,
              "#bd3786"
             ],
             [
              0.5555555555555556,
              "#d8576b"
             ],
             [
              0.6666666666666666,
              "#ed7953"
             ],
             [
              0.7777777777777778,
              "#fb9f3a"
             ],
             [
              0.8888888888888888,
              "#fdca26"
             ],
             [
              1,
              "#f0f921"
             ]
            ],
            "type": "heatmapgl"
           }
          ],
          "histogram": [
           {
            "marker": {
             "colorbar": {
              "outlinewidth": 0,
              "ticks": ""
             }
            },
            "type": "histogram"
           }
          ],
          "histogram2d": [
           {
            "colorbar": {
             "outlinewidth": 0,
             "ticks": ""
            },
            "colorscale": [
             [
              0,
              "#0d0887"
             ],
             [
              0.1111111111111111,
              "#46039f"
             ],
             [
              0.2222222222222222,
              "#7201a8"
             ],
             [
              0.3333333333333333,
              "#9c179e"
             ],
             [
              0.4444444444444444,
              "#bd3786"
             ],
             [
              0.5555555555555556,
              "#d8576b"
             ],
             [
              0.6666666666666666,
              "#ed7953"
             ],
             [
              0.7777777777777778,
              "#fb9f3a"
             ],
             [
              0.8888888888888888,
              "#fdca26"
             ],
             [
              1,
              "#f0f921"
             ]
            ],
            "type": "histogram2d"
           }
          ],
          "histogram2dcontour": [
           {
            "colorbar": {
             "outlinewidth": 0,
             "ticks": ""
            },
            "colorscale": [
             [
              0,
              "#0d0887"
             ],
             [
              0.1111111111111111,
              "#46039f"
             ],
             [
              0.2222222222222222,
              "#7201a8"
             ],
             [
              0.3333333333333333,
              "#9c179e"
             ],
             [
              0.4444444444444444,
              "#bd3786"
             ],
             [
              0.5555555555555556,
              "#d8576b"
             ],
             [
              0.6666666666666666,
              "#ed7953"
             ],
             [
              0.7777777777777778,
              "#fb9f3a"
             ],
             [
              0.8888888888888888,
              "#fdca26"
             ],
             [
              1,
              "#f0f921"
             ]
            ],
            "type": "histogram2dcontour"
           }
          ],
          "mesh3d": [
           {
            "colorbar": {
             "outlinewidth": 0,
             "ticks": ""
            },
            "type": "mesh3d"
           }
          ],
          "parcoords": [
           {
            "line": {
             "colorbar": {
              "outlinewidth": 0,
              "ticks": ""
             }
            },
            "type": "parcoords"
           }
          ],
          "pie": [
           {
            "automargin": true,
            "type": "pie"
           }
          ],
          "scatter": [
           {
            "marker": {
             "colorbar": {
              "outlinewidth": 0,
              "ticks": ""
             }
            },
            "type": "scatter"
           }
          ],
          "scatter3d": [
           {
            "line": {
             "colorbar": {
              "outlinewidth": 0,
              "ticks": ""
             }
            },
            "marker": {
             "colorbar": {
              "outlinewidth": 0,
              "ticks": ""
             }
            },
            "type": "scatter3d"
           }
          ],
          "scattercarpet": [
           {
            "marker": {
             "colorbar": {
              "outlinewidth": 0,
              "ticks": ""
             }
            },
            "type": "scattercarpet"
           }
          ],
          "scattergeo": [
           {
            "marker": {
             "colorbar": {
              "outlinewidth": 0,
              "ticks": ""
             }
            },
            "type": "scattergeo"
           }
          ],
          "scattergl": [
           {
            "marker": {
             "colorbar": {
              "outlinewidth": 0,
              "ticks": ""
             }
            },
            "type": "scattergl"
           }
          ],
          "scattermapbox": [
           {
            "marker": {
             "colorbar": {
              "outlinewidth": 0,
              "ticks": ""
             }
            },
            "type": "scattermapbox"
           }
          ],
          "scatterpolar": [
           {
            "marker": {
             "colorbar": {
              "outlinewidth": 0,
              "ticks": ""
             }
            },
            "type": "scatterpolar"
           }
          ],
          "scatterpolargl": [
           {
            "marker": {
             "colorbar": {
              "outlinewidth": 0,
              "ticks": ""
             }
            },
            "type": "scatterpolargl"
           }
          ],
          "scatterternary": [
           {
            "marker": {
             "colorbar": {
              "outlinewidth": 0,
              "ticks": ""
             }
            },
            "type": "scatterternary"
           }
          ],
          "surface": [
           {
            "colorbar": {
             "outlinewidth": 0,
             "ticks": ""
            },
            "colorscale": [
             [
              0,
              "#0d0887"
             ],
             [
              0.1111111111111111,
              "#46039f"
             ],
             [
              0.2222222222222222,
              "#7201a8"
             ],
             [
              0.3333333333333333,
              "#9c179e"
             ],
             [
              0.4444444444444444,
              "#bd3786"
             ],
             [
              0.5555555555555556,
              "#d8576b"
             ],
             [
              0.6666666666666666,
              "#ed7953"
             ],
             [
              0.7777777777777778,
              "#fb9f3a"
             ],
             [
              0.8888888888888888,
              "#fdca26"
             ],
             [
              1,
              "#f0f921"
             ]
            ],
            "type": "surface"
           }
          ],
          "table": [
           {
            "cells": {
             "fill": {
              "color": "#EBF0F8"
             },
             "line": {
              "color": "white"
             }
            },
            "header": {
             "fill": {
              "color": "#C8D4E3"
             },
             "line": {
              "color": "white"
             }
            },
            "type": "table"
           }
          ]
         },
         "layout": {
          "annotationdefaults": {
           "arrowcolor": "#2a3f5f",
           "arrowhead": 0,
           "arrowwidth": 1
          },
          "autotypenumbers": "strict",
          "coloraxis": {
           "colorbar": {
            "outlinewidth": 0,
            "ticks": ""
           }
          },
          "colorscale": {
           "diverging": [
            [
             0,
             "#8e0152"
            ],
            [
             0.1,
             "#c51b7d"
            ],
            [
             0.2,
             "#de77ae"
            ],
            [
             0.3,
             "#f1b6da"
            ],
            [
             0.4,
             "#fde0ef"
            ],
            [
             0.5,
             "#f7f7f7"
            ],
            [
             0.6,
             "#e6f5d0"
            ],
            [
             0.7,
             "#b8e186"
            ],
            [
             0.8,
             "#7fbc41"
            ],
            [
             0.9,
             "#4d9221"
            ],
            [
             1,
             "#276419"
            ]
           ],
           "sequential": [
            [
             0,
             "#0d0887"
            ],
            [
             0.1111111111111111,
             "#46039f"
            ],
            [
             0.2222222222222222,
             "#7201a8"
            ],
            [
             0.3333333333333333,
             "#9c179e"
            ],
            [
             0.4444444444444444,
             "#bd3786"
            ],
            [
             0.5555555555555556,
             "#d8576b"
            ],
            [
             0.6666666666666666,
             "#ed7953"
            ],
            [
             0.7777777777777778,
             "#fb9f3a"
            ],
            [
             0.8888888888888888,
             "#fdca26"
            ],
            [
             1,
             "#f0f921"
            ]
           ],
           "sequentialminus": [
            [
             0,
             "#0d0887"
            ],
            [
             0.1111111111111111,
             "#46039f"
            ],
            [
             0.2222222222222222,
             "#7201a8"
            ],
            [
             0.3333333333333333,
             "#9c179e"
            ],
            [
             0.4444444444444444,
             "#bd3786"
            ],
            [
             0.5555555555555556,
             "#d8576b"
            ],
            [
             0.6666666666666666,
             "#ed7953"
            ],
            [
             0.7777777777777778,
             "#fb9f3a"
            ],
            [
             0.8888888888888888,
             "#fdca26"
            ],
            [
             1,
             "#f0f921"
            ]
           ]
          },
          "colorway": [
           "#636efa",
           "#EF553B",
           "#00cc96",
           "#ab63fa",
           "#FFA15A",
           "#19d3f3",
           "#FF6692",
           "#B6E880",
           "#FF97FF",
           "#FECB52"
          ],
          "font": {
           "color": "#2a3f5f"
          },
          "geo": {
           "bgcolor": "white",
           "lakecolor": "white",
           "landcolor": "#E5ECF6",
           "showlakes": true,
           "showland": true,
           "subunitcolor": "white"
          },
          "hoverlabel": {
           "align": "left"
          },
          "hovermode": "closest",
          "mapbox": {
           "style": "light"
          },
          "paper_bgcolor": "white",
          "plot_bgcolor": "#E5ECF6",
          "polar": {
           "angularaxis": {
            "gridcolor": "white",
            "linecolor": "white",
            "ticks": ""
           },
           "bgcolor": "#E5ECF6",
           "radialaxis": {
            "gridcolor": "white",
            "linecolor": "white",
            "ticks": ""
           }
          },
          "scene": {
           "xaxis": {
            "backgroundcolor": "#E5ECF6",
            "gridcolor": "white",
            "gridwidth": 2,
            "linecolor": "white",
            "showbackground": true,
            "ticks": "",
            "zerolinecolor": "white"
           },
           "yaxis": {
            "backgroundcolor": "#E5ECF6",
            "gridcolor": "white",
            "gridwidth": 2,
            "linecolor": "white",
            "showbackground": true,
            "ticks": "",
            "zerolinecolor": "white"
           },
           "zaxis": {
            "backgroundcolor": "#E5ECF6",
            "gridcolor": "white",
            "gridwidth": 2,
            "linecolor": "white",
            "showbackground": true,
            "ticks": "",
            "zerolinecolor": "white"
           }
          },
          "shapedefaults": {
           "line": {
            "color": "#2a3f5f"
           }
          },
          "ternary": {
           "aaxis": {
            "gridcolor": "white",
            "linecolor": "white",
            "ticks": ""
           },
           "baxis": {
            "gridcolor": "white",
            "linecolor": "white",
            "ticks": ""
           },
           "bgcolor": "#E5ECF6",
           "caxis": {
            "gridcolor": "white",
            "linecolor": "white",
            "ticks": ""
           }
          },
          "title": {
           "x": 0.05
          },
          "xaxis": {
           "automargin": true,
           "gridcolor": "white",
           "linecolor": "white",
           "ticks": "",
           "title": {
            "standoff": 15
           },
           "zerolinecolor": "white",
           "zerolinewidth": 2
          },
          "yaxis": {
           "automargin": true,
           "gridcolor": "white",
           "linecolor": "white",
           "ticks": "",
           "title": {
            "standoff": 15
           },
           "zerolinecolor": "white",
           "zerolinewidth": 2
          }
         }
        },
        "title": {
         "text": "平均情绪得分"
        },
        "xaxis": {
         "anchor": "y",
         "autorange": true,
         "domain": [
          0,
          1
         ],
         "range": [
          -0.5,
          1.5
         ],
         "title": {
          "text": "index"
         },
         "type": "category"
        },
        "yaxis": {
         "anchor": "x",
         "autorange": true,
         "domain": [
          0,
          1
         ],
         "range": [
          -2.601557279378918,
          4.989918950545165
         ],
         "title": {
          "text": "value"
         },
         "type": "linear"
        }
       }
      },
      "image/png": "[encoded data removed]",
      "text/html": [
       "<div>                            <div id=\"38f93ee7-80ee-437f-bec5-158c0ffca775\" class=\"plotly-graph-div\" style=\"height:525px; width:100%;\"></div>            <script type=\"text/javascript\">                require([\"plotly\"], function(Plotly) {                    window.PLOTLYENV=window.PLOTLYENV || {};                                    if (document.getElementById(\"38f93ee7-80ee-437f-bec5-158c0ffca775\")) {                    Plotly.newPlot(                        \"38f93ee7-80ee-437f-bec5-158c0ffca775\",                        [{\"alignmentgroup\": \"True\", \"hovertemplate\": \"variable=\\u60c5\\u7eea\\u5f97\\u5206<br>index=%{x}<br>value=%{y}<extra></extra>\", \"legendgroup\": \"\\u60c5\\u7eea\\u5f97\\u5206\", \"marker\": {\"color\": \"#636efa\"}, \"name\": \"\\u60c5\\u7eea\\u5f97\\u5206\", \"offsetgroup\": \"\\u60c5\\u7eea\\u5f97\\u5206\", \"orientation\": \"v\", \"showlegend\": true, \"textposition\": \"auto\", \"type\": \"bar\", \"x\": [\"before 2021\", \"after 2021\"], \"xaxis\": \"x\", \"y\": [-2.2219834678827137, 4.6103451390489605], \"yaxis\": \"y\"}],                        {\"barmode\": \"relative\", \"legend\": {\"title\": {\"text\": \"variable\"}, \"tracegroupgap\": 0}, \"template\": {\"data\": {\"bar\": [{\"error_x\": {\"color\": \"#2a3f5f\"}, \"error_y\": {\"color\": \"#2a3f5f\"}, \"marker\": {\"line\": {\"color\": \"#E5ECF6\", \"width\": 0.5}}, \"type\": \"bar\"}], \"barpolar\": [{\"marker\": {\"line\": {\"color\": \"#E5ECF6\", \"width\": 0.5}}, \"type\": \"barpolar\"}], \"carpet\": [{\"aaxis\": {\"endlinecolor\": \"#2a3f5f\", \"gridcolor\": \"white\", \"linecolor\": \"white\", \"minorgridcolor\": \"white\", \"startlinecolor\": \"#2a3f5f\"}, \"baxis\": {\"endlinecolor\": \"#2a3f5f\", \"gridcolor\": \"white\", \"linecolor\": \"white\", \"minorgridcolor\": \"white\", \"startlinecolor\": \"#2a3f5f\"}, \"type\": \"carpet\"}], \"choropleth\": [{\"colorbar\": {\"outlinewidth\": 0, \"ticks\": \"\"}, \"type\": \"choropleth\"}], \"contour\": [{\"colorbar\": {\"outlinewidth\": 0, \"ticks\": \"\"}, \"colorscale\": [[0.0, \"#0d0887\"], [0.1111111111111111, \"#46039f\"], [0.2222222222222222, \"#7201a8\"], [0.3333333333333333, \"#9c179e\"], [0.4444444444444444, \"#bd3786\"], [0.5555555555555556, \"#d8576b\"], [0.6666666666666666, \"#ed7953\"], [0.7777777777777778, \"#fb9f3a\"], [0.8888888888888888, \"#fdca26\"], [1.0, \"#f0f921\"]], \"type\": \"contour\"}], \"contourcarpet\": [{\"colorbar\": {\"outlinewidth\": 0, \"ticks\": \"\"}, \"type\": \"contourcarpet\"}], \"heatmap\": [{\"colorbar\": {\"outlinewidth\": 0, \"ticks\": \"\"}, \"colorscale\": [[0.0, \"#0d0887\"], [0.1111111111111111, \"#46039f\"], [0.2222222222222222, \"#7201a8\"], [0.3333333333333333, \"#9c179e\"], [0.4444444444444444, \"#bd3786\"], [0.5555555555555556, \"#d8576b\"], [0.6666666666666666, \"#ed7953\"], [0.7777777777777778, \"#fb9f3a\"], [0.8888888888888888, \"#fdca26\"], [1.0, \"#f0f921\"]], \"type\": \"heatmap\"}], \"heatmapgl\": [{\"colorbar\": {\"outlinewidth\": 0, \"ticks\": \"\"}, \"colorscale\": [[0.0, \"#0d0887\"], [0.1111111111111111, \"#46039f\"], [0.2222222222222222, \"#7201a8\"], [0.3333333333333333, \"#9c179e\"], [0.4444444444444444, \"#bd3786\"], [0.5555555555555556, \"#d8576b\"], [0.6666666666666666, \"#ed7953\"], [0.7777777777777778, \"#fb9f3a\"], [0.8888888888888888, \"#fdca26\"], [1.0, \"#f0f921\"]], \"type\": \"heatmapgl\"}], \"histogram\": [{\"marker\": {\"colorbar\": {\"outlinewidth\": 0, \"ticks\": \"\"}}, \"type\": \"histogram\"}], \"histogram2d\": [{\"colorbar\": {\"outlinewidth\": 0, \"ticks\": \"\"}, \"colorscale\": [[0.0, \"#0d0887\"], [0.1111111111111111, \"#46039f\"], [0.2222222222222222, \"#7201a8\"], [0.3333333333333333, \"#9c179e\"], [0.4444444444444444, \"#bd3786\"], [0.5555555555555556, \"#d8576b\"], [0.6666666666666666, \"#ed7953\"], [0.7777777777777778, \"#fb9f3a\"], [0.8888888888888888, \"#fdca26\"], [1.0, \"#f0f921\"]], \"type\": \"histogram2d\"}], \"histogram2dcontour\": [{\"colorbar\": {\"outlinewidth\": 0, \"ticks\": \"\"}, \"colorscale\": [[0.0, \"#0d0887\"], [0.1111111111111111, \"#46039f\"], [0.2222222222222222, \"#7201a8\"], [0.3333333333333333, \"#9c179e\"], [0.4444444444444444, \"#bd3786\"], [0.5555555555555556, \"#d8576b\"], [0.6666666666666666, \"#ed7953\"], [0.7777777777777778, \"#fb9f3a\"], [0.8888888888888888, \"#fdca26\"], [1.0, \"#f0f921\"]], \"type\": \"histogram2dcontour\"}], \"mesh3d\": [{\"colorbar\": {\"outlinewidth\": 0, \"ticks\": \"\"}, \"type\": \"mesh3d\"}], \"parcoords\": [{\"line\": {\"colorbar\": {\"outlinewidth\": 0, \"ticks\": \"\"}}, \"type\": \"parcoords\"}], \"pie\": [{\"automargin\": true, \"type\": \"pie\"}], \"scatter\": [{\"marker\": {\"colorbar\": {\"outlinewidth\": 0, \"ticks\": \"\"}}, \"type\": \"scatter\"}], \"scatter3d\": [{\"line\": {\"colorbar\": {\"outlinewidth\": 0, \"ticks\": \"\"}}, \"marker\": {\"colorbar\": {\"outlinewidth\": 0, \"ticks\": \"\"}}, \"type\": \"scatter3d\"}], \"scattercarpet\": [{\"marker\": {\"colorbar\": {\"outlinewidth\": 0, \"ticks\": \"\"}}, \"type\": \"scattercarpet\"}], \"scattergeo\": [{\"marker\": {\"colorbar\": {\"outlinewidth\": 0, \"ticks\": \"\"}}, \"type\": \"scattergeo\"}], \"scattergl\": [{\"marker\": {\"colorbar\": {\"outlinewidth\": 0, \"ticks\": \"\"}}, \"type\": \"scattergl\"}], \"scattermapbox\": [{\"marker\": {\"colorbar\": {\"outlinewidth\": 0, \"ticks\": \"\"}}, \"type\": \"scattermapbox\"}], \"scatterpolar\": [{\"marker\": {\"colorbar\": {\"outlinewidth\": 0, \"ticks\": \"\"}}, \"type\": \"scatterpolar\"}], \"scatterpolargl\": [{\"marker\": {\"colorbar\": {\"outlinewidth\": 0, \"ticks\": \"\"}}, \"type\": \"scatterpolargl\"}], \"scatterternary\": [{\"marker\": {\"colorbar\": {\"outlinewidth\": 0, \"ticks\": \"\"}}, \"type\": \"scatterternary\"}], \"surface\": [{\"colorbar\": {\"outlinewidth\": 0, \"ticks\": \"\"}, \"colorscale\": [[0.0, \"#0d0887\"], [0.1111111111111111, \"#46039f\"], [0.2222222222222222, \"#7201a8\"], [0.3333333333333333, \"#9c179e\"], [0.4444444444444444, \"#bd3786\"], [0.5555555555555556, \"#d8576b\"], [0.6666666666666666, \"#ed7953\"], [0.7777777777777778, \"#fb9f3a\"], [0.8888888888888888, \"#fdca26\"], [1.0, \"#f0f921\"]], \"type\": \"surface\"}], \"table\": [{\"cells\": {\"fill\": {\"color\": \"#EBF0F8\"}, \"line\": {\"color\": \"white\"}}, \"header\": {\"fill\": {\"color\": \"#C8D4E3\"}, \"line\": {\"color\": \"white\"}}, \"type\": \"table\"}]}, \"layout\": {\"annotationdefaults\": {\"arrowcolor\": \"#2a3f5f\", \"arrowhead\": 0, \"arrowwidth\": 1}, \"autotypenumbers\": \"strict\", \"coloraxis\": {\"colorbar\": {\"outlinewidth\": 0, \"ticks\": \"\"}}, \"colorscale\": {\"diverging\": [[0, \"#8e0152\"], [0.1, \"#c51b7d\"], [0.2, \"#de77ae\"], [0.3, \"#f1b6da\"], [0.4, \"#fde0ef\"], [0.5, \"#f7f7f7\"], [0.6, \"#e6f5d0\"], [0.7, \"#b8e186\"], [0.8, \"#7fbc41\"], [0.9, \"#4d9221\"], [1, \"#276419\"]], \"sequential\": [[0.0, \"#0d0887\"], [0.1111111111111111, \"#46039f\"], [0.2222222222222222, \"#7201a8\"], [0.3333333333333333, \"#9c179e\"], [0.4444444444444444, \"#bd3786\"], [0.5555555555555556, \"#d8576b\"], [0.6666666666666666, \"#ed7953\"], [0.7777777777777778, \"#fb9f3a\"], [0.8888888888888888, \"#fdca26\"], [1.0, \"#f0f921\"]], \"sequentialminus\": [[0.0, \"#0d0887\"], [0.1111111111111111, \"#46039f\"], [0.2222222222222222, \"#7201a8\"], [0.3333333333333333, \"#9c179e\"], [0.4444444444444444, \"#bd3786\"], [0.5555555555555556, \"#d8576b\"], [0.6666666666666666, \"#ed7953\"], [0.7777777777777778, \"#fb9f3a\"], [0.8888888888888888, \"#fdca26\"], [1.0, \"#f0f921\"]]}, \"colorway\": [\"#636efa\", \"#EF553B\", \"#00cc96\", \"#ab63fa\", \"#FFA15A\", \"#19d3f3\", \"#FF6692\", \"#B6E880\", \"#FF97FF\", \"#FECB52\"], \"font\": {\"color\": \"#2a3f5f\"}, \"geo\": {\"bgcolor\": \"white\", \"lakecolor\": \"white\", \"landcolor\": \"#E5ECF6\", \"showlakes\": true, \"showland\": true, \"subunitcolor\": \"white\"}, \"hoverlabel\": {\"align\": \"left\"}, \"hovermode\": \"closest\", \"mapbox\": {\"style\": \"light\"}, \"paper_bgcolor\": \"white\", \"plot_bgcolor\": \"#E5ECF6\", \"polar\": {\"angularaxis\": {\"gridcolor\": \"white\", \"linecolor\": \"white\", \"ticks\": \"\"}, \"bgcolor\": \"#E5ECF6\", \"radialaxis\": {\"gridcolor\": \"white\", \"linecolor\": \"white\", \"ticks\": \"\"}}, \"scene\": {\"xaxis\": {\"backgroundcolor\": \"#E5ECF6\", \"gridcolor\": \"white\", \"gridwidth\": 2, \"linecolor\": \"white\", \"showbackground\": true, \"ticks\": \"\", \"zerolinecolor\": \"white\"}, \"yaxis\": {\"backgroundcolor\": \"#E5ECF6\", \"gridcolor\": \"white\", \"gridwidth\": 2, \"linecolor\": \"white\", \"showbackground\": true, \"ticks\": \"\", \"zerolinecolor\": \"white\"}, \"zaxis\": {\"backgroundcolor\": \"#E5ECF6\", \"gridcolor\": \"white\", \"gridwidth\": 2, \"linecolor\": \"white\", \"showbackground\": true, \"ticks\": \"\", \"zerolinecolor\": \"white\"}}, \"shapedefaults\": {\"line\": {\"color\": \"#2a3f5f\"}}, \"ternary\": {\"aaxis\": {\"gridcolor\": \"white\", \"linecolor\": \"white\", \"ticks\": \"\"}, \"baxis\": {\"gridcolor\": \"white\", \"linecolor\": \"white\", \"ticks\": \"\"}, \"bgcolor\": \"#E5ECF6\", \"caxis\": {\"gridcolor\": \"white\", \"linecolor\": \"white\", \"ticks\": \"\"}}, \"title\": {\"x\": 0.05}, \"xaxis\": {\"automargin\": true, \"gridcolor\": \"white\", \"linecolor\": \"white\", \"ticks\": \"\", \"title\": {\"standoff\": 15}, \"zerolinecolor\": \"white\", \"zerolinewidth\": 2}, \"yaxis\": {\"automargin\": true, \"gridcolor\": \"white\", \"linecolor\": \"white\", \"ticks\": \"\", \"title\": {\"standoff\": 15}, \"zerolinecolor\": \"white\", \"zerolinewidth\": 2}}}, \"title\": {\"text\": \"\\u5e73\\u5747\\u60c5\\u7eea\\u5f97\\u5206\"}, \"xaxis\": {\"anchor\": \"y\", \"domain\": [0.0, 1.0], \"title\": {\"text\": \"index\"}}, \"yaxis\": {\"anchor\": \"x\", \"domain\": [0.0, 1.0], \"title\": {\"text\": \"value\"}}},                        {\"responsive\": true}                    ).then(function(){\n",
       "                            \n",
       "var gd = document.getElementById('38f93ee7-80ee-437f-bec5-158c0ffca775');\n",
       "var x = new MutationObserver(function (mutations, observer) {{\n",
       "        var display = window.getComputedStyle(gd).display;\n",
       "        if (!display || display === 'none') {{\n",
       "            console.log([gd, 'removed!']);\n",
       "            Plotly.purge(gd);\n",
       "            observer.disconnect();\n",
       "        }}\n",
       "}});\n",
       "\n",
       "// Listen for the removal of the full notebook cells\n",
       "var notebookContainer = gd.closest('#notebook-container');\n",
       "if (notebookContainer) {{\n",
       "    x.observe(notebookContainer, {childList: true});\n",
       "}}\n",
       "\n",
       "// Listen for the clearing of the current output cell\n",
       "var outputEl = gd.closest('.output');\n",
       "if (outputEl) {{\n",
       "    x.observe(outputEl, {childList: true});\n",
       "}}\n",
       "\n",
       "                        })                };                });            </script>        </div>"
      ]
     },
     "metadata": {},
     "output_type": "display_data"
    }
   ],
   "source": [
    "px.bar(score_sr,title='平均情绪得分')"
   ]
  },
  {
   "cell_type": "code",
   "execution_count": null,
   "id": "83cad7e1-83d5-4050-adb7-2b0763e8a2c2",
   "metadata": {},
   "outputs": [],
   "source": [
    "!pip install pyecharts"
   ]
  },
  {
   "cell_type": "markdown",
   "id": "b269ec8b-0d03-4632-afc5-39c3722e26c7",
   "metadata": {},
   "source": [
    "## 词云"
   ]
  },
  {
   "cell_type": "code",
   "execution_count": 44,
   "id": "fd133618-8c37-4df4-aee6-66692a400b7f",
   "metadata": {},
   "outputs": [],
   "source": [
    "from pyecharts.charts import *\n",
    "from pyecharts import options as opts"
   ]
  },
  {
   "cell_type": "code",
   "execution_count": 34,
   "id": "818e34f9-dbc9-4c22-9b10-3cdaaf9b1c58",
   "metadata": {},
   "outputs": [],
   "source": [
    "#sentences_1=word2vec.Text8Corpus('./word2vec_content_before_2021.txt')\n",
    "#sentences_2=word2vec.Text8Corpus('./word2vec_content_after_2021.txt')\n",
    "#\n",
    "#w2v_model_1=Word2Vec(sentences=sentences_1,min_count=2,window=5,vector_size=50)\n",
    "#w2v_model_2=Word2Vec(sentences=sentences_2,min_count=2,window=5,vector_size=50)\n",
    "#\n",
    "#w2v_model_1.save('word2vec_1.model')\n",
    "#w2v_model_2.save('word2vec_2.model')\n",
    "w2v_model_1=Word2Vec.load('word2vec_1.model')\n",
    "w2v_model_2=Word2Vec.load('word2vec_2.model')"
   ]
  },
  {
   "cell_type": "code",
   "execution_count": 35,
   "id": "a4f471a7-dfd1-4f1e-9ca2-35d638781c69",
   "metadata": {},
   "outputs": [],
   "source": [
    "word='内卷'\n",
    "\n",
    "res_wc_1=w2v_model_1.wv.similar_by_word(word,topn=100)\n",
    "res_wc_2=w2v_model_2.wv.similar_by_word(word,topn=100)"
   ]
  },
  {
   "cell_type": "code",
   "execution_count": 36,
   "id": "4b8697d9-640e-4e6f-8277-0f686cb280b9",
   "metadata": {},
   "outputs": [],
   "source": [
    "stop_=['尤其是','足以','比作','中都','件','点','前','总','长','三','二','买','月','这几天','nvpy','一点']\n",
    "res_wc_clr_1=[c for c in res_wc_1 if c[0] not in stop_ ]\n",
    "res_wc_clr_2=[c for c in res_wc_2 if c[0] not in stop_ ]"
   ]
  },
  {
   "cell_type": "code",
   "execution_count": 37,
   "id": "e15fa1f2-9c93-45cf-af75-75ee5c282f00",
   "metadata": {},
   "outputs": [
    {
     "data": {
      "text/plain": [
       "[('压力', 0.9920461773872375),\n",
       " ('动', 0.9919614195823669),\n",
       " ('报告', 0.9919500946998596),\n",
       " ('呜呜', 0.9916808009147644),\n",
       " ('打算', 0.9916243553161621),\n",
       " ('久', 0.9916175603866577),\n",
       " ('安排', 0.9913498163223267),\n",
       " ('靠谱', 0.9912594556808472),\n",
       " ('网上', 0.9912579655647278),\n",
       " ('尴尬', 0.991205096244812)]"
      ]
     },
     "execution_count": 37,
     "metadata": {},
     "output_type": "execute_result"
    }
   ],
   "source": [
    "res_wc_clr_1[:10]"
   ]
  },
  {
   "cell_type": "code",
   "execution_count": 38,
   "id": "508f1b61-d11a-4528-b2cb-1996a1443e7a",
   "metadata": {},
   "outputs": [
    {
     "data": {
      "text/plain": [
       "[('思想', 0.9502297639846802),\n",
       " ('思考', 0.9381075501441956),\n",
       " ('逻辑', 0.9346541166305542),\n",
       " ('评判', 0.9321199059486389),\n",
       " ('观点', 0.9273241758346558),\n",
       " ('学术界', 0.9253350496292114),\n",
       " ('清晰', 0.9225746989250183),\n",
       " ('思维', 0.9208759069442749),\n",
       " ('天赋', 0.9180813431739807),\n",
       " ('形态', 0.9159897565841675)]"
      ]
     },
     "execution_count": 38,
     "metadata": {},
     "output_type": "execute_result"
    }
   ],
   "source": [
    "res_wc_clr_2[:10]"
   ]
  },
  {
   "cell_type": "code",
   "execution_count": null,
   "id": "f164c33b-b941-4c90-baa0-e6818cacfa26",
   "metadata": {},
   "outputs": [],
   "source": [
    "wc1 = (\n",
    "    WordCloud().add('%s词云图'%word,res_wc_clr_1)\n",
    ")\n",
    "wc1.render('%s_wc_1.html'%word)\n",
    "\n",
    "wc2 = (\n",
    "    WordCloud().add('%s词云图'%word,res_wc_clr_2)\n",
    ")\n",
    "wc2.render('%s_wc_2.html'%word)"
   ]
  }
 ],
 "metadata": {
  "kernelspec": {
   "display_name": "sci",
   "language": "python",
   "name": "sci"
  },
  "language_info": {
   "codemirror_mode": {
    "name": "ipython",
    "version": 3
   },
   "file_extension": ".py",
   "mimetype": "text/x-python",
   "name": "python",
   "nbconvert_exporter": "python",
   "pygments_lexer": "ipython3",
   "version": "3.8.6"
  },
  "latex_envs": {
   "LaTeX_envs_menu_present": true,
   "autoclose": false,
   "autocomplete": true,
   "bibliofile": "biblio.bib",
   "cite_by": "apalike",
   "current_citInitial": 1,
   "eqLabelWithNumbers": true,
   "eqNumInitial": 1,
   "hotkeys": {
    "equation": "Ctrl-E",
    "itemize": "Ctrl-I"
   },
   "labels_anchors": false,
   "latex_user_defs": false,
   "report_style_numbering": false,
   "user_envs_cfg": false
  },
  "toc": {
   "base_numbering": 1,
   "nav_menu": {},
   "number_sections": true,
   "sideBar": true,
   "skip_h1_title": false,
   "title_cell": "Table of Contents",
   "title_sidebar": "Contents",
   "toc_cell": false,
   "toc_position": {},
   "toc_section_display": true,
   "toc_window_display": false
  },
  "varInspector": {
   "cols": {
    "lenName": 16,
    "lenType": 16,
    "lenVar": 40
   },
   "kernels_config": {
    "python": {
     "delete_cmd_postfix": "",
     "delete_cmd_prefix": "del ",
     "library": "var_list.py",
     "varRefreshCmd": "print(var_dic_list())"
    },
    "r": {
     "delete_cmd_postfix": ") ",
     "delete_cmd_prefix": "rm(",
     "library": "var_list.r",
     "varRefreshCmd": "cat(var_dic_list()) "
    }
   },
   "types_to_exclude": [
    "module",
    "function",
    "builtin_function_or_method",
    "instance",
    "_Feature"
   ],
   "window_display": false
  }
 },
 "nbformat": 4,
 "nbformat_minor": 5
}
