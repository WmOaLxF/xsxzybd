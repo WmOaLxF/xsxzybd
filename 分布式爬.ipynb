{
 "cells": [
  {
   "cell_type": "code",
   "execution_count": 1,
   "id": "proud-daily",
   "metadata": {},
   "outputs": [
    {
     "name": "stderr",
     "output_type": "stream",
     "text": [
      "/opt/conda/lib/python3.8/site-packages/distributed/client.py:1146: VersionMismatchWarning: Mismatched versions found\n",
      "\n",
      "+-------------+---------------+---------------+---------------+\n",
      "| Package     | client        | scheduler     | workers       |\n",
      "+-------------+---------------+---------------+---------------+\n",
      "| blosc       | 1.10.2        | 1.9.2         | 1.10.2        |\n",
      "| dask        | 2021.05.1     | 2021.05.0     | 2021.05.1     |\n",
      "| distributed | 2021.05.1     | 2021.05.0     | 2021.05.1     |\n",
      "| lz4         | 3.1.3         | 3.1.1         | 3.1.1         |\n",
      "| msgpack     | 1.0.2         | 1.0.0         | 1.0.0         |\n",
      "| python      | 3.8.6.final.0 | 3.8.0.final.0 | 3.8.0.final.0 |\n",
      "+-------------+---------------+---------------+---------------+\n",
      "Notes: \n",
      "-  msgpack: Variation is ok, as long as everything is above 0.6\n",
      "  warnings.warn(version_module.VersionMismatchWarning(msg[0][\"warning\"]))\n"
     ]
    },
    {
     "data": {
      "text/html": [
       "<table style=\"border: 2px solid white;\">\n",
       "<tr>\n",
       "<td style=\"vertical-align: top; border: 0px solid white\">\n",
       "<h3 style=\"text-align: left;\">Client</h3>\n",
       "<ul style=\"text-align: left; list-style: none; margin: 0; padding: 0;\">\n",
       "  <li><b>Scheduler: </b>tcp://10.0.1.231:8786</li>\n",
       "  <li><b>Dashboard: </b><a href='http://10.0.1.231:8787/status' target='_blank'>http://10.0.1.231:8787/status</a></li>\n",
       "</ul>\n",
       "</td>\n",
       "<td style=\"vertical-align: top; border: 0px solid white\">\n",
       "<h3 style=\"text-align: left;\">Cluster</h3>\n",
       "<ul style=\"text-align: left; list-style:none; margin: 0; padding: 0;\">\n",
       "  <li><b>Workers: </b>47</li>\n",
       "  <li><b>Cores: </b>47</li>\n",
       "  <li><b>Memory: </b>45.13 GiB</li>\n",
       "</ul>\n",
       "</td>\n",
       "</tr>\n",
       "</table>"
      ],
      "text/plain": [
       "<Client: 'tcp://10.0.1.231:8786' processes=47 threads=47, memory=45.13 GiB>"
      ]
     },
     "execution_count": 1,
     "metadata": {},
     "output_type": "execute_result"
    }
   ],
   "source": [
    "from dask.distributed import Client, progress\n",
    "c = Client('10.0.1.231:8786')\n",
    "c"
   ]
  },
  {
   "cell_type": "code",
   "execution_count": 2,
   "id": "mighty-wells",
   "metadata": {},
   "outputs": [],
   "source": [
    "import json \n",
    "\n",
    "import pandas as pd \n",
    "import requests\n",
    "import re \n",
    "import time\n",
    "\n",
    "headers={'User-Agent':'Mozilla/5.0 (Windows NT 10.0; Win64; x64) AppleWebKit/537.36 (KHTML, like Gecko) Chrome/70.0.3538.110 Safari/537.36',\n",
    "        'Connection':'close'}\n",
    "\n",
    "\n",
    "import time\n",
    "\n",
    "from functools import reduce"
   ]
  },
  {
   "cell_type": "code",
   "execution_count": 3,
   "id": "moved-vampire",
   "metadata": {},
   "outputs": [],
   "source": [
    "def get_hole(pid):\n",
    "    url ='https://pkuhelper.pku.edu.cn/services/pkuhole/api.php?action=search&pagesize=50&page=1&keywords={}&PKUHelperAPI=3.0&jsapiver=201027113050-450368&user_token=4x4wsqhf1i116ofgyqcjubkkcwiof2vi'.format(pid)\n",
    "    try:\n",
    "        res = requests.get(url,headers=headers)\n",
    "        res.raise_for_status()\n",
    "        temp=json.loads(res.text)\n",
    "        return temp['data']\n",
    "    except (requests.HTTPError,json.JSONDecodeError) as err:\n",
    "        return []\n",
    "    \n",
    "\n",
    "def concat_hole(data):\n",
    "    return data"
   ]
  },
  {
   "cell_type": "code",
   "execution_count": 5,
   "id": "moral-publication",
   "metadata": {},
   "outputs": [],
   "source": [
    "import signal\n",
    "import time\n",
    "def set_timeout(num, callback):\n",
    "    def wrap(func):\n",
    "        def handle(signum, frame): # 收到信号 SIGALRM 后的回调函数，第一个参数是信号的数字，第二个参数是the interrupted stack frame.\n",
    "            raise RuntimeError\n",
    "        def to_do(*args, **kwargs):\n",
    "            try:\n",
    "                signal.signal(signal.SIGALRM, handle) # 设置信号和回调函数\n",
    "                signal.alarm(num) # 设置 num 秒的闹钟\n",
    "                #print('start alarm signal.')\n",
    "                r = func(*args, **kwargs)\n",
    "                #print('close alarm signal.')\n",
    "                signal.alarm(0) # 关闭闹钟\n",
    "                return r\n",
    "            except (RuntimeError,ConnectionError) as e:\n",
    "                callback()\n",
    "        return to_do\n",
    "    return wrap\n",
    "def after_timeout(): # 超时后的处理函数\n",
    "    return []\n",
    "@set_timeout(1, after_timeout) # 限时 1 秒超时\n",
    "def get_result(future): # 要执行的函数\n",
    "    try:\n",
    "        return future.result()\n",
    "    except ConnectionError:\n",
    "        return []\n"
   ]
  },
  {
   "cell_type": "code",
   "execution_count": 6,
   "id": "special-welcome",
   "metadata": {},
   "outputs": [],
   "source": [
    "pn=2199827 #最近的pid\n",
    "lens=200"
   ]
  },
  {
   "cell_type": "code",
   "execution_count": null,
   "id": "dental-plane",
   "metadata": {},
   "outputs": [],
   "source": [
    "state=True\n",
    "while state:\n",
    "    A=c.map(get_hole,range(pn-lens,pn))\n",
    "    D=c.scatter(A)\n",
    "    B=c.submit(concat_hole,D)\n",
    "    st=time.time()\n",
    "    C=B.result()\n",
    "    ed=time.time()\n",
    "    print('1.%s s'%(ed-st))\n",
    "    ll=list(map(get_result,C))\n",
    "    while None in ll:\n",
    "        ll.remove(None)\n",
    "    res=reduce(lambda x,y:x+y,ll)\n",
    "    ed2=time.time()\n",
    "    print('2.%s s'%(ed2-ed))\n",
    "    pd.DataFrame(res).to_csv('./hole_%s.csv'%pn)\n",
    "    pn-=lens\n",
    "    if pn<2100000:\n",
    "        state=False"
   ]
  },
  {
   "cell_type": "code",
   "execution_count": null,
   "id": "dress-detail",
   "metadata": {},
   "outputs": [],
   "source": []
  }
 ],
 "metadata": {
  "kernelspec": {
   "display_name": "Python 3",
   "language": "python",
   "name": "python3"
  },
  "language_info": {
   "codemirror_mode": {
    "name": "ipython",
    "version": 3
   },
   "file_extension": ".py",
   "mimetype": "text/x-python",
   "name": "python",
   "nbconvert_exporter": "python",
   "pygments_lexer": "ipython3",
   "version": "3.8.8"
  }
 },
 "nbformat": 4,
 "nbformat_minor": 5
}
